{
  "nbformat": 4,
  "nbformat_minor": 0,
  "metadata": {
    "colab": {
      "name": "ADOS-Model.ipynb",
      "provenance": [],
      "collapsed_sections": [],
      "authorship_tag": "ABX9TyNRJC2rJB2Q2U8X8OtDo6HV",
      "include_colab_link": true
    },
    "kernelspec": {
      "name": "python3",
      "display_name": "Python 3"
    }
  },
  "cells": [
    {
      "cell_type": "markdown",
      "metadata": {
        "id": "view-in-github",
        "colab_type": "text"
      },
      "source": [
        "<a href=\"https://colab.research.google.com/github/Zekun-Yang/Boston_house-price/blob/master/ADOS_Model.ipynb\" target=\"_parent\"><img src=\"https://colab.research.google.com/assets/colab-badge.svg\" alt=\"Open In Colab\"/></a>"
      ]
    },
    {
      "cell_type": "markdown",
      "metadata": {
        "id": "_mjwaoFDPjeo",
        "colab_type": "text"
      },
      "source": [
        "Get the dataset from github"
      ]
    },
    {
      "cell_type": "code",
      "metadata": {
        "id": "_4T2JeRC6b6k",
        "colab_type": "code",
        "colab": {
          "base_uri": "https://localhost:8080/",
          "height": 35
        },
        "outputId": "99ffca4e-70d0-408c-d626-978258610844"
      },
      "source": [
        "import pandas as pd\n",
        "import requests\n",
        "\n",
        "url = \"https://github.com/Zekun-Yang/monas-dataset/raw/master/ADOS-DUMMY-RESULTS.csv\"\n",
        "data = pd.read_csv(url)\n",
        "data.shape"
      ],
      "execution_count": 14,
      "outputs": [
        {
          "output_type": "execute_result",
          "data": {
            "text/plain": [
              "(1998, 23)"
            ]
          },
          "metadata": {
            "tags": []
          },
          "execution_count": 14
        }
      ]
    },
    {
      "cell_type": "markdown",
      "metadata": {
        "id": "GqLNLhKvfeI4",
        "colab_type": "text"
      },
      "source": [
        "have a look at the dataset"
      ]
    },
    {
      "cell_type": "code",
      "metadata": {
        "id": "CgseFOg6fv39",
        "colab_type": "code",
        "colab": {
          "base_uri": "https://localhost:8080/",
          "height": 228
        },
        "outputId": "64607417-d254-4231-c30c-359ab4e2c5c5"
      },
      "source": [
        "data.head()"
      ],
      "execution_count": 15,
      "outputs": [
        {
          "output_type": "execute_result",
          "data": {
            "text/html": [
              "<div>\n",
              "<style scoped>\n",
              "    .dataframe tbody tr th:only-of-type {\n",
              "        vertical-align: middle;\n",
              "    }\n",
              "\n",
              "    .dataframe tbody tr th {\n",
              "        vertical-align: top;\n",
              "    }\n",
              "\n",
              "    .dataframe thead th {\n",
              "        text-align: right;\n",
              "    }\n",
              "</style>\n",
              "<table border=\"1\" class=\"dataframe\">\n",
              "  <thead>\n",
              "    <tr style=\"text-align: right;\">\n",
              "      <th></th>\n",
              "      <th>user_id</th>\n",
              "      <th>diagnosis</th>\n",
              "      <th>column_1</th>\n",
              "      <th>column_2</th>\n",
              "      <th>column_3</th>\n",
              "      <th>column_4</th>\n",
              "      <th>column_5</th>\n",
              "      <th>column_6</th>\n",
              "      <th>column_7</th>\n",
              "      <th>column_8</th>\n",
              "      <th>column_9</th>\n",
              "      <th>column_10</th>\n",
              "      <th>column_11</th>\n",
              "      <th>column_12</th>\n",
              "      <th>column_13</th>\n",
              "      <th>column_14</th>\n",
              "      <th>column_15</th>\n",
              "      <th>column_16</th>\n",
              "      <th>column_17</th>\n",
              "      <th>column_18</th>\n",
              "      <th>column_19</th>\n",
              "      <th>column_20</th>\n",
              "      <th>column_21</th>\n",
              "    </tr>\n",
              "  </thead>\n",
              "  <tbody>\n",
              "    <tr>\n",
              "      <th>0</th>\n",
              "      <td>eyJhbGciOiJIUzI1NiJ9.NjMy.ka2YbVyGz3FBi5QACKSp...</td>\n",
              "      <td>False</td>\n",
              "      <td>1</td>\n",
              "      <td>1</td>\n",
              "      <td>1</td>\n",
              "      <td>0</td>\n",
              "      <td>0</td>\n",
              "      <td>1</td>\n",
              "      <td>1</td>\n",
              "      <td>1</td>\n",
              "      <td>0</td>\n",
              "      <td>0</td>\n",
              "      <td>0</td>\n",
              "      <td>0</td>\n",
              "      <td>0</td>\n",
              "      <td>0</td>\n",
              "      <td>0</td>\n",
              "      <td>0</td>\n",
              "      <td>0</td>\n",
              "      <td>0</td>\n",
              "      <td>0</td>\n",
              "      <td>0</td>\n",
              "      <td>0</td>\n",
              "    </tr>\n",
              "    <tr>\n",
              "      <th>1</th>\n",
              "      <td>eyJhbGciOiJIUzI1NiJ9.MTA5OQ.9VWi8AfWrOQl9ARFl-...</td>\n",
              "      <td>False</td>\n",
              "      <td>0</td>\n",
              "      <td>0</td>\n",
              "      <td>0</td>\n",
              "      <td>0</td>\n",
              "      <td>1</td>\n",
              "      <td>0</td>\n",
              "      <td>0</td>\n",
              "      <td>0</td>\n",
              "      <td>0</td>\n",
              "      <td>0</td>\n",
              "      <td>1</td>\n",
              "      <td>1</td>\n",
              "      <td>0</td>\n",
              "      <td>0</td>\n",
              "      <td>0</td>\n",
              "      <td>0</td>\n",
              "      <td>0</td>\n",
              "      <td>0</td>\n",
              "      <td>0</td>\n",
              "      <td>0</td>\n",
              "      <td>0</td>\n",
              "    </tr>\n",
              "    <tr>\n",
              "      <th>2</th>\n",
              "      <td>eyJhbGciOiJIUzI1NiJ9.MjI2.Fug-oDVpDae5J7i15xCM...</td>\n",
              "      <td>False</td>\n",
              "      <td>0</td>\n",
              "      <td>0</td>\n",
              "      <td>0</td>\n",
              "      <td>1</td>\n",
              "      <td>0</td>\n",
              "      <td>1</td>\n",
              "      <td>0</td>\n",
              "      <td>0</td>\n",
              "      <td>1</td>\n",
              "      <td>0</td>\n",
              "      <td>0</td>\n",
              "      <td>0</td>\n",
              "      <td>0</td>\n",
              "      <td>0</td>\n",
              "      <td>0</td>\n",
              "      <td>1</td>\n",
              "      <td>1</td>\n",
              "      <td>0</td>\n",
              "      <td>0</td>\n",
              "      <td>0</td>\n",
              "      <td>1</td>\n",
              "    </tr>\n",
              "    <tr>\n",
              "      <th>3</th>\n",
              "      <td>eyJhbGciOiJIUzI1NiJ9.NTA2.mbHzYw01DHwkuRZJqO04...</td>\n",
              "      <td>False</td>\n",
              "      <td>1</td>\n",
              "      <td>1</td>\n",
              "      <td>1</td>\n",
              "      <td>1</td>\n",
              "      <td>0</td>\n",
              "      <td>0</td>\n",
              "      <td>1</td>\n",
              "      <td>0</td>\n",
              "      <td>1</td>\n",
              "      <td>0</td>\n",
              "      <td>0</td>\n",
              "      <td>0</td>\n",
              "      <td>1</td>\n",
              "      <td>0</td>\n",
              "      <td>0</td>\n",
              "      <td>0</td>\n",
              "      <td>0</td>\n",
              "      <td>0</td>\n",
              "      <td>0</td>\n",
              "      <td>0</td>\n",
              "      <td>0</td>\n",
              "    </tr>\n",
              "    <tr>\n",
              "      <th>4</th>\n",
              "      <td>eyJhbGciOiJIUzI1NiJ9.MTI3Mg.zyc8OxBd2XJuca4EGK...</td>\n",
              "      <td>False</td>\n",
              "      <td>1</td>\n",
              "      <td>0</td>\n",
              "      <td>0</td>\n",
              "      <td>0</td>\n",
              "      <td>0</td>\n",
              "      <td>0</td>\n",
              "      <td>1</td>\n",
              "      <td>1</td>\n",
              "      <td>1</td>\n",
              "      <td>0</td>\n",
              "      <td>0</td>\n",
              "      <td>1</td>\n",
              "      <td>1</td>\n",
              "      <td>0</td>\n",
              "      <td>1</td>\n",
              "      <td>0</td>\n",
              "      <td>1</td>\n",
              "      <td>0</td>\n",
              "      <td>1</td>\n",
              "      <td>0</td>\n",
              "      <td>1</td>\n",
              "    </tr>\n",
              "  </tbody>\n",
              "</table>\n",
              "</div>"
            ],
            "text/plain": [
              "                                             user_id  ...  column_21\n",
              "0  eyJhbGciOiJIUzI1NiJ9.NjMy.ka2YbVyGz3FBi5QACKSp...  ...          0\n",
              "1  eyJhbGciOiJIUzI1NiJ9.MTA5OQ.9VWi8AfWrOQl9ARFl-...  ...          0\n",
              "2  eyJhbGciOiJIUzI1NiJ9.MjI2.Fug-oDVpDae5J7i15xCM...  ...          1\n",
              "3  eyJhbGciOiJIUzI1NiJ9.NTA2.mbHzYw01DHwkuRZJqO04...  ...          0\n",
              "4  eyJhbGciOiJIUzI1NiJ9.MTI3Mg.zyc8OxBd2XJuca4EGK...  ...          1\n",
              "\n",
              "[5 rows x 23 columns]"
            ]
          },
          "metadata": {
            "tags": []
          },
          "execution_count": 15
        }
      ]
    },
    {
      "cell_type": "markdown",
      "metadata": {
        "id": "soPEdmY82O-J",
        "colab_type": "text"
      },
      "source": [
        "It is found out that the dataset is imbalance (the number of negative examples is much larger than the number of positive examples). \n",
        "Thus, the accuracy of the model is not a useful metric."
      ]
    },
    {
      "cell_type": "code",
      "metadata": {
        "id": "7ev01CkhukPq",
        "colab_type": "code",
        "colab": {
          "base_uri": "https://localhost:8080/"
        },
        "outputId": "387f61c2-f28d-421a-9361-307b1a0fbefc"
      },
      "source": [
        "import numpy as np\n",
        "\n",
        "neg, pos = np.bincount(data['diagnosis'])\n",
        "total = neg + pos\n",
        "\n",
        "print('Examples:\\n    Total: {}\\n    Positive: {} ({:.2f}% of total)\\n'.format(\n",
        "    total, pos, 100 * pos / total))\n",
        "\n"
      ],
      "execution_count": 16,
      "outputs": [
        {
          "output_type": "stream",
          "text": [
            "Examples:\n",
            "    Total: 1998\n",
            "    Positive: 308 (15.42% of total)\n",
            "\n"
          ],
          "name": "stdout"
        }
      ]
    },
    {
      "cell_type": "markdown",
      "metadata": {
        "id": "1n6WMZfAf_IZ",
        "colab_type": "text"
      },
      "source": [
        "change the boolean value in the diagnosis conlum into numeric value and drop the userid conlum"
      ]
    },
    {
      "cell_type": "code",
      "metadata": {
        "id": "CBBLq1QDe6aU",
        "colab_type": "code",
        "colab": {
          "base_uri": "https://localhost:8080/"
        },
        "outputId": "e783092c-7fad-4f89-ccf1-9d24b9bf195b"
      },
      "source": [
        "data['diagnosis'] = data['diagnosis'].astype(int)\n",
        "data.pop('user_id')"
      ],
      "execution_count": 17,
      "outputs": [
        {
          "output_type": "execute_result",
          "data": {
            "text/plain": [
              "0       eyJhbGciOiJIUzI1NiJ9.NjMy.ka2YbVyGz3FBi5QACKSp...\n",
              "1       eyJhbGciOiJIUzI1NiJ9.MTA5OQ.9VWi8AfWrOQl9ARFl-...\n",
              "2       eyJhbGciOiJIUzI1NiJ9.MjI2.Fug-oDVpDae5J7i15xCM...\n",
              "3       eyJhbGciOiJIUzI1NiJ9.NTA2.mbHzYw01DHwkuRZJqO04...\n",
              "4       eyJhbGciOiJIUzI1NiJ9.MTI3Mg.zyc8OxBd2XJuca4EGK...\n",
              "                              ...                        \n",
              "1993    eyJhbGciOiJIUzI1NiJ9.MzUx.bFAQ4--N1DHHyxGvUur_...\n",
              "1994    eyJhbGciOiJIUzI1NiJ9.MTE5NA.YkNtvsYMXfP712e9zc...\n",
              "1995    eyJhbGciOiJIUzI1NiJ9.MTI1.q5UMF_-SIgTGiUJv7ShV...\n",
              "1996    eyJhbGciOiJIUzI1NiJ9.MTEwNA.Y8J96HsxmNFvNsvGyb...\n",
              "1997    eyJhbGciOiJIUzI1NiJ9.MjI2.Fug-oDVpDae5J7i15xCM...\n",
              "Name: user_id, Length: 1998, dtype: object"
            ]
          },
          "metadata": {
            "tags": []
          },
          "execution_count": 17
        }
      ]
    },
    {
      "cell_type": "markdown",
      "metadata": {
        "id": "Wl-TRdMWgFjT",
        "colab_type": "text"
      },
      "source": [
        "check if there is missing data"
      ]
    },
    {
      "cell_type": "code",
      "metadata": {
        "id": "U3768n10R9cz",
        "colab_type": "code",
        "colab": {
          "base_uri": "https://localhost:8080/",
          "height": 422
        },
        "outputId": "048d2686-ce96-44df-d648-a7a37c2cc681"
      },
      "source": [
        "data.isna().sum()"
      ],
      "execution_count": 18,
      "outputs": [
        {
          "output_type": "execute_result",
          "data": {
            "text/plain": [
              "diagnosis    0\n",
              "column_1     0\n",
              "column_2     0\n",
              "column_3     0\n",
              "column_4     0\n",
              "column_5     0\n",
              "column_6     0\n",
              "column_7     0\n",
              "column_8     0\n",
              "column_9     0\n",
              "column_10    0\n",
              "column_11    0\n",
              "column_12    0\n",
              "column_13    0\n",
              "column_14    0\n",
              "column_15    0\n",
              "column_16    0\n",
              "column_17    0\n",
              "column_18    0\n",
              "column_19    0\n",
              "column_20    0\n",
              "column_21    0\n",
              "dtype: int64"
            ]
          },
          "metadata": {
            "tags": []
          },
          "execution_count": 18
        }
      ]
    },
    {
      "cell_type": "markdown",
      "metadata": {
        "id": "fyXXB-iPWPfQ",
        "colab_type": "text"
      },
      "source": [
        "Some statistics about the dataset"
      ]
    },
    {
      "cell_type": "code",
      "metadata": {
        "id": "pAJMEjeQWWpH",
        "colab_type": "code",
        "colab": {
          "base_uri": "https://localhost:8080/",
          "height": 323
        },
        "outputId": "762c0a20-473f-45c6-fef2-192719ed59c5"
      },
      "source": [
        "data_stats = data.describe()\n",
        "data_stats.pop('diagnosis')\n",
        "data_stats"
      ],
      "execution_count": 19,
      "outputs": [
        {
          "output_type": "execute_result",
          "data": {
            "text/html": [
              "<div>\n",
              "<style scoped>\n",
              "    .dataframe tbody tr th:only-of-type {\n",
              "        vertical-align: middle;\n",
              "    }\n",
              "\n",
              "    .dataframe tbody tr th {\n",
              "        vertical-align: top;\n",
              "    }\n",
              "\n",
              "    .dataframe thead th {\n",
              "        text-align: right;\n",
              "    }\n",
              "</style>\n",
              "<table border=\"1\" class=\"dataframe\">\n",
              "  <thead>\n",
              "    <tr style=\"text-align: right;\">\n",
              "      <th></th>\n",
              "      <th>column_1</th>\n",
              "      <th>column_2</th>\n",
              "      <th>column_3</th>\n",
              "      <th>column_4</th>\n",
              "      <th>column_5</th>\n",
              "      <th>column_6</th>\n",
              "      <th>column_7</th>\n",
              "      <th>column_8</th>\n",
              "      <th>column_9</th>\n",
              "      <th>column_10</th>\n",
              "      <th>column_11</th>\n",
              "      <th>column_12</th>\n",
              "      <th>column_13</th>\n",
              "      <th>column_14</th>\n",
              "      <th>column_15</th>\n",
              "      <th>column_16</th>\n",
              "      <th>column_17</th>\n",
              "      <th>column_18</th>\n",
              "      <th>column_19</th>\n",
              "      <th>column_20</th>\n",
              "      <th>column_21</th>\n",
              "    </tr>\n",
              "  </thead>\n",
              "  <tbody>\n",
              "    <tr>\n",
              "      <th>count</th>\n",
              "      <td>1998.000000</td>\n",
              "      <td>1998.000000</td>\n",
              "      <td>1998.000000</td>\n",
              "      <td>1998.000000</td>\n",
              "      <td>1998.000000</td>\n",
              "      <td>1998.000000</td>\n",
              "      <td>1998.000000</td>\n",
              "      <td>1998.000000</td>\n",
              "      <td>1998.000000</td>\n",
              "      <td>1998.000000</td>\n",
              "      <td>1998.000000</td>\n",
              "      <td>1998.000000</td>\n",
              "      <td>1998.000000</td>\n",
              "      <td>1998.000000</td>\n",
              "      <td>1998.000000</td>\n",
              "      <td>1998.000000</td>\n",
              "      <td>1998.000000</td>\n",
              "      <td>1998.00000</td>\n",
              "      <td>1998.000000</td>\n",
              "      <td>1998.000000</td>\n",
              "      <td>1998.000000</td>\n",
              "    </tr>\n",
              "    <tr>\n",
              "      <th>mean</th>\n",
              "      <td>0.396897</td>\n",
              "      <td>0.397397</td>\n",
              "      <td>0.294294</td>\n",
              "      <td>0.347347</td>\n",
              "      <td>0.423924</td>\n",
              "      <td>0.418919</td>\n",
              "      <td>0.414915</td>\n",
              "      <td>0.436436</td>\n",
              "      <td>0.409910</td>\n",
              "      <td>0.360360</td>\n",
              "      <td>0.346346</td>\n",
              "      <td>0.438438</td>\n",
              "      <td>0.413413</td>\n",
              "      <td>0.419920</td>\n",
              "      <td>0.425425</td>\n",
              "      <td>0.398398</td>\n",
              "      <td>0.413914</td>\n",
              "      <td>0.37037</td>\n",
              "      <td>0.422923</td>\n",
              "      <td>0.339339</td>\n",
              "      <td>0.403904</td>\n",
              "    </tr>\n",
              "    <tr>\n",
              "      <th>std</th>\n",
              "      <td>0.719658</td>\n",
              "      <td>0.735557</td>\n",
              "      <td>0.455839</td>\n",
              "      <td>0.598337</td>\n",
              "      <td>0.775803</td>\n",
              "      <td>0.763582</td>\n",
              "      <td>0.753903</td>\n",
              "      <td>0.768505</td>\n",
              "      <td>0.755976</td>\n",
              "      <td>0.593126</td>\n",
              "      <td>0.593036</td>\n",
              "      <td>0.773215</td>\n",
              "      <td>0.777281</td>\n",
              "      <td>0.757763</td>\n",
              "      <td>0.794444</td>\n",
              "      <td>0.757825</td>\n",
              "      <td>0.751794</td>\n",
              "      <td>0.60042</td>\n",
              "      <td>0.773118</td>\n",
              "      <td>0.597075</td>\n",
              "      <td>0.745223</td>\n",
              "    </tr>\n",
              "    <tr>\n",
              "      <th>min</th>\n",
              "      <td>0.000000</td>\n",
              "      <td>0.000000</td>\n",
              "      <td>0.000000</td>\n",
              "      <td>0.000000</td>\n",
              "      <td>0.000000</td>\n",
              "      <td>0.000000</td>\n",
              "      <td>0.000000</td>\n",
              "      <td>0.000000</td>\n",
              "      <td>0.000000</td>\n",
              "      <td>0.000000</td>\n",
              "      <td>0.000000</td>\n",
              "      <td>0.000000</td>\n",
              "      <td>0.000000</td>\n",
              "      <td>0.000000</td>\n",
              "      <td>0.000000</td>\n",
              "      <td>0.000000</td>\n",
              "      <td>0.000000</td>\n",
              "      <td>0.00000</td>\n",
              "      <td>0.000000</td>\n",
              "      <td>0.000000</td>\n",
              "      <td>0.000000</td>\n",
              "    </tr>\n",
              "    <tr>\n",
              "      <th>25%</th>\n",
              "      <td>0.000000</td>\n",
              "      <td>0.000000</td>\n",
              "      <td>0.000000</td>\n",
              "      <td>0.000000</td>\n",
              "      <td>0.000000</td>\n",
              "      <td>0.000000</td>\n",
              "      <td>0.000000</td>\n",
              "      <td>0.000000</td>\n",
              "      <td>0.000000</td>\n",
              "      <td>0.000000</td>\n",
              "      <td>0.000000</td>\n",
              "      <td>0.000000</td>\n",
              "      <td>0.000000</td>\n",
              "      <td>0.000000</td>\n",
              "      <td>0.000000</td>\n",
              "      <td>0.000000</td>\n",
              "      <td>0.000000</td>\n",
              "      <td>0.00000</td>\n",
              "      <td>0.000000</td>\n",
              "      <td>0.000000</td>\n",
              "      <td>0.000000</td>\n",
              "    </tr>\n",
              "    <tr>\n",
              "      <th>50%</th>\n",
              "      <td>0.000000</td>\n",
              "      <td>0.000000</td>\n",
              "      <td>0.000000</td>\n",
              "      <td>0.000000</td>\n",
              "      <td>0.000000</td>\n",
              "      <td>0.000000</td>\n",
              "      <td>0.000000</td>\n",
              "      <td>0.000000</td>\n",
              "      <td>0.000000</td>\n",
              "      <td>0.000000</td>\n",
              "      <td>0.000000</td>\n",
              "      <td>0.000000</td>\n",
              "      <td>0.000000</td>\n",
              "      <td>0.000000</td>\n",
              "      <td>0.000000</td>\n",
              "      <td>0.000000</td>\n",
              "      <td>0.000000</td>\n",
              "      <td>0.00000</td>\n",
              "      <td>0.000000</td>\n",
              "      <td>0.000000</td>\n",
              "      <td>0.000000</td>\n",
              "    </tr>\n",
              "    <tr>\n",
              "      <th>75%</th>\n",
              "      <td>1.000000</td>\n",
              "      <td>1.000000</td>\n",
              "      <td>1.000000</td>\n",
              "      <td>1.000000</td>\n",
              "      <td>1.000000</td>\n",
              "      <td>1.000000</td>\n",
              "      <td>1.000000</td>\n",
              "      <td>1.000000</td>\n",
              "      <td>1.000000</td>\n",
              "      <td>1.000000</td>\n",
              "      <td>1.000000</td>\n",
              "      <td>1.000000</td>\n",
              "      <td>1.000000</td>\n",
              "      <td>1.000000</td>\n",
              "      <td>1.000000</td>\n",
              "      <td>1.000000</td>\n",
              "      <td>1.000000</td>\n",
              "      <td>1.00000</td>\n",
              "      <td>1.000000</td>\n",
              "      <td>1.000000</td>\n",
              "      <td>1.000000</td>\n",
              "    </tr>\n",
              "    <tr>\n",
              "      <th>max</th>\n",
              "      <td>3.000000</td>\n",
              "      <td>3.000000</td>\n",
              "      <td>1.000000</td>\n",
              "      <td>2.000000</td>\n",
              "      <td>3.000000</td>\n",
              "      <td>3.000000</td>\n",
              "      <td>3.000000</td>\n",
              "      <td>3.000000</td>\n",
              "      <td>3.000000</td>\n",
              "      <td>2.000000</td>\n",
              "      <td>2.000000</td>\n",
              "      <td>3.000000</td>\n",
              "      <td>3.000000</td>\n",
              "      <td>3.000000</td>\n",
              "      <td>3.000000</td>\n",
              "      <td>3.000000</td>\n",
              "      <td>3.000000</td>\n",
              "      <td>2.00000</td>\n",
              "      <td>3.000000</td>\n",
              "      <td>2.000000</td>\n",
              "      <td>3.000000</td>\n",
              "    </tr>\n",
              "  </tbody>\n",
              "</table>\n",
              "</div>"
            ],
            "text/plain": [
              "          column_1     column_2  ...    column_20    column_21\n",
              "count  1998.000000  1998.000000  ...  1998.000000  1998.000000\n",
              "mean      0.396897     0.397397  ...     0.339339     0.403904\n",
              "std       0.719658     0.735557  ...     0.597075     0.745223\n",
              "min       0.000000     0.000000  ...     0.000000     0.000000\n",
              "25%       0.000000     0.000000  ...     0.000000     0.000000\n",
              "50%       0.000000     0.000000  ...     0.000000     0.000000\n",
              "75%       1.000000     1.000000  ...     1.000000     1.000000\n",
              "max       3.000000     3.000000  ...     2.000000     3.000000\n",
              "\n",
              "[8 rows x 21 columns]"
            ]
          },
          "metadata": {
            "tags": []
          },
          "execution_count": 19
        }
      ]
    },
    {
      "cell_type": "markdown",
      "metadata": {
        "id": "dMij0aGIh4WL",
        "colab_type": "text"
      },
      "source": [
        "split data into test set and evaluate set"
      ]
    },
    {
      "cell_type": "code",
      "metadata": {
        "id": "FGaKU412hzFu",
        "colab_type": "code",
        "colab": {}
      },
      "source": [
        "from sklearn.model_selection import train_test_split\n",
        "\n",
        "x_train, x_test = train_test_split(data, test_size=0.2)\n",
        "y_train = x_train.pop('diagnosis')\n",
        "y_test = x_test.pop('diagnosis')"
      ],
      "execution_count": 20,
      "outputs": []
    },
    {
      "cell_type": "markdown",
      "metadata": {
        "id": "KAmeJTkkjYZm",
        "colab_type": "text"
      },
      "source": [
        "data normalisation"
      ]
    },
    {
      "cell_type": "code",
      "metadata": {
        "id": "gSS6aWSsjbpn",
        "colab_type": "code",
        "colab": {}
      },
      "source": [
        "x_train = (x_train - x_train.mean()) / x_train.std()\n",
        "x_test = (x_test - x_test.mean()) / x_test.std()"
      ],
      "execution_count": 21,
      "outputs": []
    },
    {
      "cell_type": "markdown",
      "metadata": {
        "id": "p3wj5RPzosIf",
        "colab_type": "text"
      },
      "source": [
        "creat a dense NN model"
      ]
    },
    {
      "cell_type": "code",
      "metadata": {
        "id": "jP9TlxBOorIq",
        "colab_type": "code",
        "colab": {}
      },
      "source": [
        "import tensorflow as tf\n",
        "\n",
        "from tensorflow import keras\n",
        "from tensorflow.keras import layers\n",
        "\n",
        "def create_model():\n",
        "  model = keras.Sequential([\n",
        "      layers.Flatten(input_shape=(21,1)),\n",
        "      layers.Dense(12, activation='relu'),\n",
        "      layers.Dense(1, activation='sigmoid')\n",
        "    ])\n",
        "\n",
        "  model.compile(optimizer='adam',\n",
        "              loss='binary_crossentropy',\n",
        "              metrics=['accuracy'])\n",
        "  return model"
      ],
      "execution_count": 22,
      "outputs": []
    },
    {
      "cell_type": "code",
      "metadata": {
        "id": "ZxjSzjk9rfdp",
        "colab_type": "code",
        "colab": {
          "base_uri": "https://localhost:8080/",
          "height": 264
        },
        "outputId": "098bee91-fef0-45f5-d599-44eb2a898ec8"
      },
      "source": [
        "model = create_model()\n",
        "model.summary()"
      ],
      "execution_count": 23,
      "outputs": [
        {
          "output_type": "stream",
          "text": [
            "Model: \"sequential_1\"\n",
            "_________________________________________________________________\n",
            "Layer (type)                 Output Shape              Param #   \n",
            "=================================================================\n",
            "flatten_1 (Flatten)          (None, 21)                0         \n",
            "_________________________________________________________________\n",
            "dense_2 (Dense)              (None, 12)                264       \n",
            "_________________________________________________________________\n",
            "dense_3 (Dense)              (None, 1)                 13        \n",
            "=================================================================\n",
            "Total params: 277\n",
            "Trainable params: 277\n",
            "Non-trainable params: 0\n",
            "_________________________________________________________________\n"
          ],
          "name": "stdout"
        }
      ]
    },
    {
      "cell_type": "code",
      "metadata": {
        "id": "wUMemrffrmdM",
        "colab_type": "code",
        "colab": {
          "base_uri": "https://localhost:8080/",
          "height": 35
        },
        "outputId": "4be3f947-4081-4b2f-a726-18266b80f163"
      },
      "source": [
        "model.fit(x_train, y_train, epochs=50, validation_split=0.2, verbose=0)"
      ],
      "execution_count": 24,
      "outputs": [
        {
          "output_type": "execute_result",
          "data": {
            "text/plain": [
              "<tensorflow.python.keras.callbacks.History at 0x7f99e7360cf8>"
            ]
          },
          "metadata": {
            "tags": []
          },
          "execution_count": 24
        }
      ]
    },
    {
      "cell_type": "code",
      "metadata": {
        "id": "TkYWrN2FsJp6",
        "colab_type": "code",
        "colab": {
          "base_uri": "https://localhost:8080/",
          "height": 35
        },
        "outputId": "bac926b8-752c-45f5-d9f9-75fb2fcb3a88"
      },
      "source": [
        "test_loss, test_acc = model.evaluate(x_test, y_test, verbose=1)\n",
        "\n",
        "predictions = model.predict(x_test)\n",
        "p = []\n",
        "\n",
        "for i in predictions:\n",
        "  if i > 0.5:\n",
        "    p.append(1)\n",
        "  else:\n",
        "    p.append(0)\n",
        "\n",
        "con_mat = tf.math.confusion_matrix(labels=y_test, predictions=p).numpy()\n",
        "\n",
        "con_mat_norm = np.around(con_mat.astype('float') / con_mat.sum(axis=1)[:, np.newaxis], decimals=2)\n",
        " \n",
        "con_mat_df = pd.DataFrame(con_mat_norm,\n",
        "                     index = [0,1], \n",
        "                     columns = [0,1])\n",
        "\n",
        "\n",
        "\n",
        "\n"
      ],
      "execution_count": 25,
      "outputs": [
        {
          "output_type": "stream",
          "text": [
            "13/13 [==============================] - 0s 1ms/step - loss: 0.0023 - accuracy: 1.0000\n"
          ],
          "name": "stdout"
        }
      ]
    },
    {
      "cell_type": "code",
      "metadata": {
        "id": "osy4ReayNT1d",
        "colab_type": "code",
        "colab": {
          "base_uri": "https://localhost:8080/",
          "height": 599
        },
        "outputId": "a21ed087-f9e1-49d5-ff9e-b238e2fa670e"
      },
      "source": [
        "from matplotlib import pyplot as plt\n",
        "import seaborn as sns\n",
        "figure = plt.figure(figsize=(8, 8))\n",
        "sns.heatmap(con_mat_df, annot=True,cmap=plt.cm.Blues)\n",
        "plt.tight_layout()\n",
        "plt.ylabel('True label')\n",
        "plt.xlabel('Predicted label')\n",
        "plt.show()"
      ],
      "execution_count": 26,
      "outputs": [
        {
          "output_type": "display_data",
          "data": {
            "image/png": "[encoded data removed]",
            "text/plain": [
              "<Figure size 576x576 with 2 Axes>"
            ]
          },
          "metadata": {
            "tags": [],
            "needs_background": "light"
          }
        }
      ]
    }
  ]
}